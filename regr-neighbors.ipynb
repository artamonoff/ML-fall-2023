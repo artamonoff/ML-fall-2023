{
 "cells": [
  {
   "cell_type": "markdown",
   "id": "bcfd1073-946f-4c20-92ca-709448a1f4b2",
   "metadata": {},
   "source": [
    "# Регрессия: ближайшие соседи"
   ]
  },
  {
   "cell_type": "code",
   "execution_count": null,
   "id": "a4b423fd-34cc-4302-a3b4-3534db20514e",
   "metadata": {},
   "outputs": [],
   "source": [
    "import numpy as np\n",
    "import pandas as pd\n",
    "\n",
    "from sklearn.neighbors import KNeighborsRegressor, RadiusNeighborsRegressor\n",
    "from sklearn.model_selection import train_test_split\n",
    "from sklearn import metrics # матрики подгонки\n",
    "\n",
    "# Не показывать FutureWarnings\n",
    "import warnings\n",
    "warnings.simplefilter(action='ignore', category=FutureWarning)"
   ]
  },
  {
   "cell_type": "markdown",
   "id": "ce5f22de-f107-45a3-b1a2-0ed26be57eb4",
   "metadata": {},
   "source": [
    "## Данные"
   ]
  },
  {
   "cell_type": "code",
   "execution_count": null,
   "id": "3b6ac49c-4b49-4ca7-a0c4-180073205922",
   "metadata": {},
   "outputs": [],
   "source": [
    "# загрузим данные\n",
    "data = pd.read_csv('sleep75.csv')\n",
    "data.shape"
   ]
  },
  {
   "cell_type": "code",
   "execution_count": null,
   "id": "1cca112d-1a06-48c8-beaf-affc2a0367f5",
   "metadata": {},
   "outputs": [],
   "source": [
    "# Удалим пропущенные значения (столбцы)\n",
    "data = data.dropna(axis=1)\n",
    "data.shape"
   ]
  },
  {
   "cell_type": "code",
   "execution_count": null,
   "id": "6c6a2fc6-cf8b-48ee-983c-5d51b5c21c26",
   "metadata": {},
   "outputs": [],
   "source": [
    "y = data['sleep']\n",
    "X = data.drop(columns='sleep')\n",
    "# Разобьём выборку на обучающую и тестовую 80:20\n",
    "X_train,X_test,y_train,y_test = train_test_split(X,y,test_size=0.2,random_state=0)"
   ]
  },
  {
   "cell_type": "markdown",
   "id": "45f420e1-17cf-40d4-a0da-8430ed87d25c",
   "metadata": {},
   "source": [
    "## Регрессия kNN\n",
    "обучаем модель на обучающей выборке"
   ]
  },
  {
   "cell_type": "code",
   "execution_count": null,
   "id": "8744db9b-d5e4-4faa-9c56-6aa358fc7a71",
   "metadata": {},
   "outputs": [],
   "source": [
    "neigh_knn = KNeighborsRegressor(n_neighbors=2, weights='uniform')\n",
    "neigh_knn.fit(X_train, y_train)"
   ]
  },
  {
   "cell_type": "code",
   "execution_count": null,
   "id": "e8af60d8-6874-4241-b0f7-146ad618171c",
   "metadata": {},
   "outputs": [],
   "source": [
    "# neigh_rad = RadiusNeighborsRegressor(radius=20.0, weights='uniform')\n",
    "# neigh_rad.fit(X_train, y_train)"
   ]
  },
  {
   "cell_type": "markdown",
   "id": "db2cf637-11d7-4e9b-955f-383e2252f642",
   "metadata": {},
   "source": [
    "## Метрики подгонки"
   ]
  },
  {
   "cell_type": "code",
   "execution_count": null,
   "id": "3744ae2b-7671-4a5b-9f67-407c90e1e922",
   "metadata": {},
   "outputs": [],
   "source": [
    "# R^2 на тестовой выборке\n",
    "neigh_knn.score(X_test, y_test)"
   ]
  },
  {
   "cell_type": "markdown",
   "id": "0a8f8a2a-bb59-41dd-8e1c-ae4d4483c677",
   "metadata": {},
   "source": [
    "Базовые метрики"
   ]
  },
  {
   "cell_type": "code",
   "execution_count": null,
   "id": "cde6b575",
   "metadata": {},
   "outputs": [],
   "source": [
    "# MSE/ RMSE\n",
    "metrics.mean_squared_error(y_test, neigh_knn.predict(X_test), squared=True), metrics.mean_squared_error(y_test, neigh_knn.predict(X_test), squared=False)"
   ]
  },
  {
   "cell_type": "code",
   "execution_count": null,
   "id": "cb93efde",
   "metadata": {},
   "outputs": [],
   "source": [
    "# MAE\n",
    "metrics.mean_absolute_error(y_test, neigh_knn.predict(X_test))"
   ]
  },
  {
   "cell_type": "code",
   "execution_count": null,
   "id": "66d5e939",
   "metadata": {},
   "outputs": [],
   "source": [
    "# MAPE\n",
    "metrics.mean_absolute_percentage_error(y_test, neigh_knn.predict(X_test))"
   ]
  },
  {
   "cell_type": "code",
   "execution_count": null,
   "id": "25e7c186",
   "metadata": {},
   "outputs": [],
   "source": [
    "# R2\n",
    "metrics.r2_score(y_test, neigh_knn.predict(X_test))"
   ]
  },
  {
   "cell_type": "code",
   "execution_count": null,
   "id": "f6555be7",
   "metadata": {},
   "outputs": [],
   "source": [
    "# Mean squared logarithmic error regression loss.\n",
    "metrics.mean_squared_log_error(y_test, neigh_knn.predict(X_test))"
   ]
  }
 ],
 "metadata": {
  "kernelspec": {
   "display_name": "Python 3 (ipykernel)",
   "language": "python",
   "name": "python3"
  },
  "language_info": {
   "codemirror_mode": {
    "name": "ipython",
    "version": 3
   },
   "file_extension": ".py",
   "mimetype": "text/x-python",
   "name": "python",
   "nbconvert_exporter": "python",
   "pygments_lexer": "ipython3",
   "version": "3.11.5"
  }
 },
 "nbformat": 4,
 "nbformat_minor": 5
}
