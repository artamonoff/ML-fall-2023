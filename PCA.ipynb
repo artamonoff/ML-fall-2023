{
 "cells": [
  {
   "cell_type": "markdown",
   "id": "f2cb445e-cab6-4e64-bd5b-665b0e951059",
   "metadata": {},
   "source": [
    "# Метод главных компонент"
   ]
  },
  {
   "cell_type": "code",
   "execution_count": null,
   "id": "1fae3990-f93a-4a3f-9764-fecbfacc0f8c",
   "metadata": {
    "tags": []
   },
   "outputs": [],
   "source": [
    "import pandas as pd\n",
    "import numpy as np\n",
    "from sklearn.decomposition import PCA # Метод главных компонент\n",
    "from sklearn import preprocessing  # методы для предварительной обработки данных (нормирование etc)\n",
    "import seaborn as sns # 2D-визуалиазция\n",
    "import plotly.express as px # 3D-визуалиазация"
   ]
  },
  {
   "cell_type": "code",
   "execution_count": null,
   "id": "25cae165-6771-4d91-a8fc-63d7a3844d6c",
   "metadata": {
    "tags": []
   },
   "outputs": [],
   "source": [
    "data = pd.read_csv('Countries.csv', sep=';', decimal=',')\n",
    "data.head()"
   ]
  },
  {
   "cell_type": "code",
   "execution_count": null,
   "id": "e8e32447-9da2-4f89-bbff-45e20ccff6dd",
   "metadata": {
    "tags": []
   },
   "outputs": [],
   "source": [
    "# Удалим нечисловые переменные\n",
    "data = data.drop(columns=['Страны'])\n",
    "data"
   ]
  },
  {
   "cell_type": "markdown",
   "id": "035f622e-0135-4d07-8918-0ac205e76cc4",
   "metadata": {},
   "source": [
    "## Нормирование данных\n",
    "z-нормировка (метод `.StandardScaler`, указаны настройки по умолчанию)"
   ]
  },
  {
   "cell_type": "code",
   "execution_count": null,
   "id": "255cd1e5-f523-455a-ab90-2cb81fa56539",
   "metadata": {
    "tags": []
   },
   "outputs": [],
   "source": [
    "data_norm = preprocessing.StandardScaler(with_mean=True, with_std=True).fit_transform(data)"
   ]
  },
  {
   "cell_type": "markdown",
   "id": "babc7053-b7d2-41a5-8618-39759843e6df",
   "metadata": {},
   "source": [
    "min-max- нормировка"
   ]
  },
  {
   "cell_type": "code",
   "execution_count": null,
   "id": "eecdd1e2-4758-47f7-9291-60a963ba5729",
   "metadata": {
    "tags": []
   },
   "outputs": [],
   "source": [
    "# data_norm = preprocessing.MinMaxScaler().fit_transform(data)"
   ]
  },
  {
   "cell_type": "markdown",
   "id": "667756ea-10fe-41a0-ad09-bf4a3aef30c4",
   "metadata": {},
   "source": [
    "робастная ноормировка ($(x_i-median)/IQR$)"
   ]
  },
  {
   "cell_type": "code",
   "execution_count": null,
   "id": "3866d082-f855-4d5e-935b-013c4762cdcc",
   "metadata": {},
   "outputs": [],
   "source": [
    "# data_norm = preprocessing.RobustScaler().fit_transform(data)"
   ]
  },
  {
   "cell_type": "markdown",
   "id": "8910f45c-29f4-4b2e-9bee-ea7238e7887e",
   "metadata": {},
   "source": [
    "## Выделение главных компонент\n",
    "Выделим ГК и выведем \n",
    "- дисперсии главных компонент нормированные на сумму дисперсий всех компонент \n",
    "- накопленную сумму этих дисперсий"
   ]
  },
  {
   "cell_type": "code",
   "execution_count": null,
   "id": "8e91904a-8ed9-4bba-9b4a-347ad8d2dbc7",
   "metadata": {
    "tags": []
   },
   "outputs": [],
   "source": [
    "pca = PCA().fit(data_norm)\n",
    "print(pca.explained_variance_ratio_)\n",
    "print(np.cumsum(pca.explained_variance_ratio_) )"
   ]
  },
  {
   "cell_type": "markdown",
   "id": "a73abac0-9afe-4a82-b590-f49a5c8affcd",
   "metadata": {},
   "source": [
    "*Вывод*: первые три компоненты объясняют >75% вариации\n",
    "\n",
    "Используем `PCA` для выделения первых трёх компонент (параметр `n_components`) "
   ]
  },
  {
   "cell_type": "code",
   "execution_count": null,
   "id": "9b8521b9-5ddf-472f-a34f-81ad7bf60d6c",
   "metadata": {
    "tags": []
   },
   "outputs": [],
   "source": [
    "pca_data = PCA(n_components=3).fit_transform(data_norm)\n",
    "# Переведём в формат DataFrame\n",
    "pca_df = pd.DataFrame(data=pca_data, columns = ['PC1', 'PC2', 'PC3'])\n",
    "pca_df"
   ]
  },
  {
   "cell_type": "markdown",
   "id": "e4a574de-1129-48c3-aeba-9ccd217b93d6",
   "metadata": {},
   "source": [
    "## Визуализация главных компонент"
   ]
  },
  {
   "cell_type": "code",
   "execution_count": null,
   "id": "a2c691ab-d17c-4d8a-b8b8-a49078cfb6d3",
   "metadata": {
    "tags": []
   },
   "outputs": [],
   "source": [
    "sns.scatterplot(data=pca_df, x='PC1', y='PC2')"
   ]
  },
  {
   "cell_type": "code",
   "execution_count": null,
   "id": "a992628a-6199-4332-8dca-379c57ae8ab1",
   "metadata": {
    "tags": []
   },
   "outputs": [],
   "source": [
    "fig = px.scatter_3d(pca_df, x='PC1', y='PC2', z='PC3')\n",
    "fig.update_traces(marker_size=3)\n",
    "fig.show()"
   ]
  },
  {
   "cell_type": "code",
   "execution_count": null,
   "id": "9a897773-727d-4aef-8ec4-834317493050",
   "metadata": {},
   "outputs": [],
   "source": []
  }
 ],
 "metadata": {
  "kernelspec": {
   "display_name": "Python 3 (ipykernel)",
   "language": "python",
   "name": "python3"
  },
  "language_info": {
   "codemirror_mode": {
    "name": "ipython",
    "version": 3
   },
   "file_extension": ".py",
   "mimetype": "text/x-python",
   "name": "python",
   "nbconvert_exporter": "python",
   "pygments_lexer": "ipython3",
   "version": "3.11.5"
  }
 },
 "nbformat": 4,
 "nbformat_minor": 5
}
