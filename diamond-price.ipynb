{
 "cells": [
  {
   "cell_type": "code",
   "execution_count": null,
   "metadata": {},
   "outputs": [],
   "source": [
    "import numpy as np\n",
    "import pandas as pd\n",
    "\n",
    "from sklearn import linear_model # линейные модели\n",
    "from sklearn.model_selection import train_test_split\n",
    "\n",
    "import seaborn as sns"
   ]
  },
  {
   "cell_type": "markdown",
   "metadata": {},
   "source": [
    "## diamonds (Prices of over 50,000 round cut diamonds)\n",
    "\n",
    "*number of observations* : 53940\n",
    "\n",
    "- price price in US dollars ($326–$18,823)\n",
    "- carat weight of the diamond (0.2–5.01)\n",
    "- cut quality of the cut (Fair, Good, Very Good, Premium, Ideal) \n",
    "- color diamond colour, from D (best) to J (worst)\n",
    "- clarity a measurement of how clear the diamond is (I1 (worst), SI2, SI1, VS2, VS1, VVS2, VVS1, IF (best))\n",
    "- x length in mm (0–10.74)\n",
    "- y width in mm (0–58.9)\n",
    "- z depth in mm (0–31.8)\n",
    "- depth total depth percentage = z / mean(x, y) = 2 * z / (x + y) (43–79)\n",
    "- table width of top of diamond relative to widest point (43–95)"
   ]
  },
  {
   "cell_type": "code",
   "execution_count": null,
   "metadata": {},
   "outputs": [],
   "source": [
    "df = pd.read_csv('diamonds.csv')\n",
    "df.head()"
   ]
  },
  {
   "cell_type": "code",
   "execution_count": null,
   "metadata": {},
   "outputs": [],
   "source": [
    "df = pd.get_dummies(df, columns=['color', 'cut', 'clarity'], dtype=int)\n",
    "df.head()"
   ]
  },
  {
   "cell_type": "code",
   "execution_count": null,
   "metadata": {},
   "outputs": [],
   "source": [
    "sns.scatterplot(data=df, x='carat', y='price')"
   ]
  },
  {
   "cell_type": "code",
   "execution_count": null,
   "metadata": {},
   "outputs": [],
   "source": [
    "sns.scatterplot(x= np.log(df['carat']), y=np.log(df['price']))"
   ]
  },
  {
   "cell_type": "code",
   "execution_count": null,
   "metadata": {},
   "outputs": [],
   "source": [
    "sns.heatmap(df.corr(), vmin=-1, vmax=1)"
   ]
  },
  {
   "cell_type": "code",
   "execution_count": null,
   "metadata": {},
   "outputs": [],
   "source": [
    "# Данные для прогноза\n",
    "y = np.log(df['price'])\n",
    "\n",
    "X = df.drop(columns=['price', 'carat'])\n",
    "X.insert(loc=0, column='log(carat)', value=np.log(df['carat']))"
   ]
  },
  {
   "cell_type": "code",
   "execution_count": null,
   "metadata": {},
   "outputs": [],
   "source": [
    "X_train, X_test, y_train, y_test = train_test_split(X, y, test_size=0.33, random_state=42)"
   ]
  },
  {
   "cell_type": "markdown",
   "metadata": {},
   "source": [
    "## Линейная регрессия (с регуляризацией)"
   ]
  },
  {
   "cell_type": "code",
   "execution_count": null,
   "metadata": {},
   "outputs": [],
   "source": [
    "# Линейная регрессия\n",
    "lin_reg = linear_model.LinearRegression(fit_intercept=True)\n",
    "\n",
    "lin_reg.fit(X_train, y_train)\n",
    "\n",
    "lin_reg.score(X_test, y_test)"
   ]
  },
  {
   "cell_type": "code",
   "execution_count": null,
   "metadata": {},
   "outputs": [],
   "source": [
    "# Ridge регрессия\n",
    "ridge_reg = linear_model.Ridge(alpha=0.5, fit_intercept=True)\n",
    "\n",
    "ridge_reg.fit(X_train, y_train)\n",
    "\n",
    "ridge_reg.score(X_test, y_test)"
   ]
  },
  {
   "cell_type": "code",
   "execution_count": null,
   "metadata": {},
   "outputs": [],
   "source": [
    "# Lasso регрессия\n",
    "lasso_reg = linear_model.Lasso(alpha=0.2, fit_intercept=True)\n",
    "\n",
    "lasso_reg.fit(X_train, y_train)\n",
    "\n",
    "lasso_reg.score(X_test, y_test)"
   ]
  },
  {
   "cell_type": "code",
   "execution_count": null,
   "metadata": {},
   "outputs": [],
   "source": [
    "# Квантильная регрессия\n",
    "quantile_reg = linear_model.QuantileRegressor(quantile=0.2, alpha=0.1,  fit_intercept=True, solver='highs-ipm')\n",
    "\n",
    "quantile_reg.fit(X_train, y_train)\n",
    "\n",
    "quantile_reg.score(X_test, y_test)"
   ]
  }
 ],
 "metadata": {
  "kernelspec": {
   "display_name": "base",
   "language": "python",
   "name": "python3"
  },
  "language_info": {
   "codemirror_mode": {
    "name": "ipython",
    "version": 3
   },
   "file_extension": ".py",
   "mimetype": "text/x-python",
   "name": "python",
   "nbconvert_exporter": "python",
   "pygments_lexer": "ipython3",
   "version": "3.11.6"
  }
 },
 "nbformat": 4,
 "nbformat_minor": 2
}
