{
 "cells": [
  {
   "cell_type": "code",
   "execution_count": null,
   "metadata": {},
   "outputs": [],
   "source": [
    "import numpy as np\n",
    "import pandas as pd"
   ]
  },
  {
   "cell_type": "markdown",
   "metadata": {},
   "source": [
    "## diamonds (Prices of over 50,000 round cut diamonds)\n",
    "\n",
    "*number of observations* : 53940\n",
    "\n",
    "- price price in US dollars ($326–$18,823)\n",
    "- carat weight of the diamond (0.2–5.01)\n",
    "- cut quality of the cut (Fair, Good, Very Good, Premium, Ideal) \n",
    "- color diamond colour, from D (best) to J (worst)\n",
    "- clarity a measurement of how clear the diamond is (I1 (worst), SI2, SI1, VS2, VS1, VVS2, VVS1, IF (best))\n",
    "- x length in mm (0–10.74)\n",
    "- y width in mm (0–58.9)\n",
    "- z depth in mm (0–31.8)\n",
    "- depth total depth percentage = z / mean(x, y) = 2 * z / (x + y) (43–79)\n",
    "- table width of top of diamond relative to widest point (43–95)"
   ]
  },
  {
   "cell_type": "code",
   "execution_count": null,
   "metadata": {},
   "outputs": [],
   "source": [
    "df = pd.read_csv('Diamond.csv')\n",
    "df.head()"
   ]
  },
  {
   "cell_type": "code",
   "execution_count": null,
   "metadata": {},
   "outputs": [],
   "source": [
    "df = pd.get_dummies(df, columns=['colour', 'cut', 'clarity'], dtype=int)\n",
    "df"
   ]
  }
 ],
 "metadata": {
  "kernelspec": {
   "display_name": "base",
   "language": "python",
   "name": "python3"
  },
  "language_info": {
   "codemirror_mode": {
    "name": "ipython",
    "version": 3
   },
   "file_extension": ".py",
   "mimetype": "text/x-python",
   "name": "python",
   "nbconvert_exporter": "python",
   "pygments_lexer": "ipython3",
   "version": "3.11.6"
  }
 },
 "nbformat": 4,
 "nbformat_minor": 2
}
