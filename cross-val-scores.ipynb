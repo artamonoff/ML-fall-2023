{
 "cells": [
  {
   "cell_type": "code",
   "execution_count": null,
   "metadata": {
    "execution": {
     "iopub.execute_input": "2023-12-15T17:03:33.348338Z",
     "iopub.status.busy": "2023-12-15T17:03:33.347335Z",
     "iopub.status.idle": "2023-12-15T17:03:35.494469Z",
     "shell.execute_reply": "2023-12-15T17:03:35.494469Z",
     "shell.execute_reply.started": "2023-12-15T17:03:33.348338Z"
    },
    "tags": []
   },
   "outputs": [],
   "source": [
    "import numpy as np\n",
    "import pandas as pd\n",
    "\n",
    "from sklearn.model_selection import train_test_split\n",
    "from sklearn.ensemble import RandomForestClassifier\n",
    "from sklearn.model_selection import validation_curve, ValidationCurveDisplay, cross_val_score\n",
    "\n",
    "import matplotlib.pyplot as plt"
   ]
  },
  {
   "cell_type": "code",
   "execution_count": null,
   "metadata": {
    "execution": {
     "iopub.execute_input": "2023-12-15T17:03:37.586778Z",
     "iopub.status.busy": "2023-12-15T17:03:37.586778Z",
     "iopub.status.idle": "2023-12-15T17:03:37.700315Z",
     "shell.execute_reply": "2023-12-15T17:03:37.700315Z",
     "shell.execute_reply.started": "2023-12-15T17:03:37.586778Z"
    },
    "tags": []
   },
   "outputs": [],
   "source": [
    "data = pd.read_csv('cholesterol_prediction.csv',sep=\";\")\n",
    "data.head()"
   ]
  },
  {
   "cell_type": "code",
   "execution_count": null,
   "metadata": {
    "execution": {
     "iopub.execute_input": "2023-12-15T17:03:40.229670Z",
     "iopub.status.busy": "2023-12-15T17:03:40.229670Z",
     "iopub.status.idle": "2023-12-15T17:03:40.255957Z",
     "shell.execute_reply": "2023-12-15T17:03:40.254946Z",
     "shell.execute_reply.started": "2023-12-15T17:03:40.229670Z"
    },
    "tags": []
   },
   "outputs": [],
   "source": [
    "y=data['cardio']\n",
    "X=data.drop(columns=['id','cardio'])"
   ]
  },
  {
   "cell_type": "code",
   "execution_count": null,
   "metadata": {
    "execution": {
     "iopub.execute_input": "2023-12-15T17:03:41.585407Z",
     "iopub.status.busy": "2023-12-15T17:03:41.585407Z",
     "iopub.status.idle": "2023-12-15T17:03:41.588965Z",
     "shell.execute_reply": "2023-12-15T17:03:41.588965Z",
     "shell.execute_reply.started": "2023-12-15T17:03:41.585407Z"
    },
    "tags": []
   },
   "outputs": [],
   "source": [
    "rf = RandomForestClassifier(n_estimators=100, criterion='gini', max_depth=None, n_jobs=-1, random_state=42)"
   ]
  },
  {
   "cell_type": "code",
   "execution_count": null,
   "metadata": {
    "execution": {
     "iopub.execute_input": "2023-12-15T17:03:42.611760Z",
     "iopub.status.busy": "2023-12-15T17:03:42.611760Z",
     "iopub.status.idle": "2023-12-15T17:03:58.686966Z",
     "shell.execute_reply": "2023-12-15T17:03:58.686966Z",
     "shell.execute_reply.started": "2023-12-15T17:03:42.611760Z"
    },
    "tags": []
   },
   "outputs": [],
   "source": [
    "scores = cross_val_score(rf, X, y, cv=5, scoring=\"accuracy\")\n",
    "scores"
   ]
  }
 ],
 "metadata": {
  "kernelspec": {
   "display_name": "Python 3 (ipykernel)",
   "language": "python",
   "name": "python3"
  },
  "language_info": {
   "codemirror_mode": {
    "name": "ipython",
    "version": 3
   },
   "file_extension": ".py",
   "mimetype": "text/x-python",
   "name": "python",
   "nbconvert_exporter": "python",
   "pygments_lexer": "ipython3",
   "version": "3.11.5"
  }
 },
 "nbformat": 4,
 "nbformat_minor": 4
}
