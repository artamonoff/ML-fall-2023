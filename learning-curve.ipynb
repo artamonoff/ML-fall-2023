{
 "cells": [
  {
   "cell_type": "code",
   "execution_count": null,
   "metadata": {
    "execution": {
     "iopub.execute_input": "2023-12-15T17:05:07.410832Z",
     "iopub.status.busy": "2023-12-15T17:05:07.410832Z",
     "iopub.status.idle": "2023-12-15T17:05:08.604708Z",
     "shell.execute_reply": "2023-12-15T17:05:08.604708Z",
     "shell.execute_reply.started": "2023-12-15T17:05:07.410832Z"
    }
   },
   "outputs": [],
   "source": [
    "import numpy as np\n",
    "import pandas as pd\n",
    "\n",
    "from sklearn.model_selection import train_test_split\n",
    "from sklearn.ensemble import RandomForestClassifier\n",
    "from sklearn.model_selection import LearningCurveDisplay, learning_curve\n",
    "\n",
    "import matplotlib.pyplot as plt"
   ]
  },
  {
   "cell_type": "code",
   "execution_count": null,
   "metadata": {
    "execution": {
     "iopub.execute_input": "2023-12-15T17:05:08.606712Z",
     "iopub.status.busy": "2023-12-15T17:05:08.605710Z",
     "iopub.status.idle": "2023-12-15T17:05:08.679404Z",
     "shell.execute_reply": "2023-12-15T17:05:08.679404Z",
     "shell.execute_reply.started": "2023-12-15T17:05:08.606712Z"
    }
   },
   "outputs": [],
   "source": [
    "data = pd.read_csv('cholesterol_prediction.csv',sep=\";\")\n",
    "data.head()"
   ]
  },
  {
   "cell_type": "code",
   "execution_count": null,
   "metadata": {
    "execution": {
     "iopub.execute_input": "2023-12-15T17:05:08.680408Z",
     "iopub.status.busy": "2023-12-15T17:05:08.680408Z",
     "iopub.status.idle": "2023-12-15T17:05:08.687190Z",
     "shell.execute_reply": "2023-12-15T17:05:08.687190Z",
     "shell.execute_reply.started": "2023-12-15T17:05:08.680408Z"
    }
   },
   "outputs": [],
   "source": [
    "y=data['cardio']\n",
    "X=data.drop(columns=['id','cardio'])"
   ]
  },
  {
   "cell_type": "code",
   "execution_count": null,
   "metadata": {
    "execution": {
     "iopub.execute_input": "2023-12-15T17:05:08.689198Z",
     "iopub.status.busy": "2023-12-15T17:05:08.689198Z",
     "iopub.status.idle": "2023-12-15T17:05:08.709797Z",
     "shell.execute_reply": "2023-12-15T17:05:08.703790Z",
     "shell.execute_reply.started": "2023-12-15T17:05:08.689198Z"
    }
   },
   "outputs": [],
   "source": [
    "rf = RandomForestClassifier(n_estimators=100, criterion='gini', max_depth=None, n_jobs=-1, random_state=42)"
   ]
  },
  {
   "cell_type": "code",
   "execution_count": null,
   "metadata": {
    "execution": {
     "iopub.execute_input": "2023-12-15T17:05:08.710796Z",
     "iopub.status.busy": "2023-12-15T17:05:08.710796Z",
     "iopub.status.idle": "2023-12-15T17:05:54.252226Z",
     "shell.execute_reply": "2023-12-15T17:05:54.252226Z",
     "shell.execute_reply.started": "2023-12-15T17:05:08.710796Z"
    },
    "tags": []
   },
   "outputs": [],
   "source": [
    "train_sizes, train_scores, test_scores = learning_curve(rf, X, y, scoring=\"accuracy\")\n",
    "\n",
    "display = LearningCurveDisplay(train_sizes=train_sizes,train_scores=train_scores, test_scores=test_scores, score_name=\"Score\")\n",
    "\n",
    "display.plot()\n"
   ]
  }
 ],
 "metadata": {
  "kernelspec": {
   "display_name": "Python 3 (ipykernel)",
   "language": "python",
   "name": "python3"
  },
  "language_info": {
   "codemirror_mode": {
    "name": "ipython",
    "version": 3
   },
   "file_extension": ".py",
   "mimetype": "text/x-python",
   "name": "python",
   "nbconvert_exporter": "python",
   "pygments_lexer": "ipython3",
   "version": "3.11.5"
  }
 },
 "nbformat": 4,
 "nbformat_minor": 4
}
